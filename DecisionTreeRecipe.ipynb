{
 "cells": [
  {
   "cell_type": "code",
   "execution_count": 6,
   "metadata": {},
   "outputs": [],
   "source": [
    "from sklearn import tree, datasets\n",
    "import numpy as np\n",
    "import pandas as pd\n",
    "import tree_vis"
   ]
  },
  {
   "attachments": {},
   "cell_type": "markdown",
   "metadata": {},
   "source": [
    "### Prepare Example Dataset and Train the Decision Tree"
   ]
  },
  {
   "cell_type": "code",
   "execution_count": 142,
   "metadata": {},
   "outputs": [
    {
     "data": {
      "text/html": [
       "<div>\n",
       "<style scoped>\n",
       "    .dataframe tbody tr th:only-of-type {\n",
       "        vertical-align: middle;\n",
       "    }\n",
       "\n",
       "    .dataframe tbody tr th {\n",
       "        vertical-align: top;\n",
       "    }\n",
       "\n",
       "    .dataframe thead th {\n",
       "        text-align: right;\n",
       "    }\n",
       "</style>\n",
       "<table border=\"1\" class=\"dataframe\">\n",
       "  <thead>\n",
       "    <tr style=\"text-align: right;\">\n",
       "      <th></th>\n",
       "      <th>sepal_length</th>\n",
       "      <th>sepal_width</th>\n",
       "      <th>petal_length</th>\n",
       "      <th>petal_width</th>\n",
       "    </tr>\n",
       "  </thead>\n",
       "  <tbody>\n",
       "    <tr>\n",
       "      <th>0</th>\n",
       "      <td>5.1</td>\n",
       "      <td>3.5</td>\n",
       "      <td>1.4</td>\n",
       "      <td>0.2</td>\n",
       "    </tr>\n",
       "    <tr>\n",
       "      <th>1</th>\n",
       "      <td>4.9</td>\n",
       "      <td>3.0</td>\n",
       "      <td>1.4</td>\n",
       "      <td>0.2</td>\n",
       "    </tr>\n",
       "    <tr>\n",
       "      <th>2</th>\n",
       "      <td>4.7</td>\n",
       "      <td>3.2</td>\n",
       "      <td>1.3</td>\n",
       "      <td>0.2</td>\n",
       "    </tr>\n",
       "    <tr>\n",
       "      <th>3</th>\n",
       "      <td>4.6</td>\n",
       "      <td>3.1</td>\n",
       "      <td>1.5</td>\n",
       "      <td>0.2</td>\n",
       "    </tr>\n",
       "    <tr>\n",
       "      <th>4</th>\n",
       "      <td>5.0</td>\n",
       "      <td>3.6</td>\n",
       "      <td>1.4</td>\n",
       "      <td>0.2</td>\n",
       "    </tr>\n",
       "  </tbody>\n",
       "</table>\n",
       "</div>"
      ],
      "text/plain": [
       "   sepal_length  sepal_width  petal_length  petal_width\n",
       "0           5.1          3.5           1.4          0.2\n",
       "1           4.9          3.0           1.4          0.2\n",
       "2           4.7          3.2           1.3          0.2\n",
       "3           4.6          3.1           1.5          0.2\n",
       "4           5.0          3.6           1.4          0.2"
      ]
     },
     "execution_count": 142,
     "metadata": {},
     "output_type": "execute_result"
    }
   ],
   "source": [
    "iris_raw_data = datasets.load_iris()\n",
    "X, Y = (iris_raw_data.data, iris_raw_data.target)\n",
    "iris_data = pd.DataFrame(X)\n",
    "new_column_names = [name.replace(\" (cm)\", \"\").replace(\" \", \"_\") for name in iris_raw_data[\"feature_names\"]]\n",
    "iris_data.columns = new_column_names\n",
    "species_names = iris_raw_data[\"target_names\"]\n",
    "iris_target = np.vectorize({i:species for i,species in zip(range(3), species_names)}.get)(Y)\n",
    "iris_data.head()"
   ]
  },
  {
   "cell_type": "code",
   "execution_count": 145,
   "metadata": {},
   "outputs": [
    {
     "data": {
      "text/plain": [
       "0.96"
      ]
     },
     "execution_count": 145,
     "metadata": {},
     "output_type": "execute_result"
    }
   ],
   "source": [
    "clf = tree.DecisionTreeClassifier(random_state = 0, max_depth=2)\n",
    "clf.fit(iris_data, iris_target)\n",
    "clf.score(iris_data, iris_target)"
   ]
  },
  {
   "attachments": {},
   "cell_type": "markdown",
   "metadata": {},
   "source": [
    "### Generate Visualizations and Explanations of the Tree"
   ]
  },
  {
   "cell_type": "code",
   "execution_count": 160,
   "metadata": {},
   "outputs": [
    {
     "name": "stdout",
     "output_type": "stream",
     "text": [
      "The binary tree structure has 5 nodes:\n",
      "[Split] Node 0: go to node 1 if (petal_width < 0.8) else to node 2.\n",
      "  |  [Leaf]  Node 1: 100% are setosa.\n",
      "  |  [Split] Node 2: go to node 3 if (petal_width < 1.75) else to node 4.\n",
      "  |    |  [Leaf]  Node 3: 91% are versicolor.\n",
      "  |    |  [Leaf]  Node 4: 98% are virginica.\n"
     ]
    }
   ],
   "source": [
    "# explanation string directly from sklearn.tree.DecisionsTreeClassifier object\n",
    "tree_vis.explain_tree(clf, indent = \"  |  \",\n",
    "                      feature_names = iris_data.columns.values[0:4], category_names = species_names)"
   ]
  },
  {
   "cell_type": "code",
   "execution_count": 162,
   "metadata": {},
   "outputs": [
    {
     "name": "stdout",
     "output_type": "stream",
     "text": [
      "[Split] go to first branch if (age < 18) else to second branch.\n",
      "\t[Leaf] Minor\n",
      "\t[Leaf] Adult\n"
     ]
    },
    {
     "data": {
      "image/png": "[encoded data removed]",
      "text/plain": [
       "<PIL.Image.Image image mode=RGB size=352x211>"
      ]
     },
     "execution_count": 162,
     "metadata": {},
     "output_type": "execute_result"
    }
   ],
   "source": [
    "# manually create a decision tree\n",
    "tc = tree_vis.ThresholdCondition(\"age\", 18)\n",
    "left = tree_vis.DecisionTreeNode(value=\"Minor\")\n",
    "right = tree_vis.DecisionTreeNode(value=\"Adult\")\n",
    "node = tree_vis.DecisionTreeNode(tc, 0, left, right)\n",
    "\n",
    "# generate explanation string and visualization\n",
    "node.explain_tree(out=True)\n",
    "node.visualize_tree(margin=20, font_size=40, arrow_height=40)"
   ]
  },
  {
   "cell_type": "code",
   "execution_count": 163,
   "metadata": {},
   "outputs": [
    {
     "name": "stdout",
     "output_type": "stream",
     "text": [
      "[Split] go to first branch if (petal_width < 0.8) else to second branch.\n",
      "\t[Leaf] 100% are setosa\n",
      "\t[Split] go to first branch if (petal_width < 1.75) else to second branch.\n",
      "\t\t[Leaf] 91% are versicolor\n",
      "\t\t[Leaf] 98% are virginica\n"
     ]
    },
    {
     "data": {
      "image/png": "[encoded data removed]",
      "text/plain": [
       "<PIL.Image.Image image mode=RGB size=598x182>"
      ]
     },
     "execution_count": 163,
     "metadata": {},
     "output_type": "execute_result"
    }
   ],
   "source": [
    "# or convert from an sklearn.tree.DecisionsTreeClassifier tree into a tree_vis.DecisionTreeNode object\n",
    "converted_clf = tree_vis.convert_from_sklearn(clf, feature_names = iris_data.columns.values[0:13], category_names = species_names)\n",
    "converted_clf.explain_tree(out=True)\n",
    "converted_clf.visualize_tree()"
   ]
  }
 ],
 "metadata": {
  "kernelspec": {
   "display_name": "base",
   "language": "python",
   "name": "python3"
  },
  "language_info": {
   "codemirror_mode": {
    "name": "ipython",
    "version": 3
   },
   "file_extension": ".py",
   "mimetype": "text/x-python",
   "name": "python",
   "nbconvert_exporter": "python",
   "pygments_lexer": "ipython3",
   "version": "3.9.17"
  },
  "orig_nbformat": 4
 },
 "nbformat": 4,
 "nbformat_minor": 2
}
